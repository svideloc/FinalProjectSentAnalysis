{
 "cells": [
  {
   "cell_type": "code",
   "execution_count": 1,
   "metadata": {},
   "outputs": [],
   "source": [
    "import botometer\n",
    "import requests\n",
    "import pandas as pd"
   ]
  },
  {
   "cell_type": "code",
   "execution_count": 2,
   "metadata": {},
   "outputs": [],
   "source": [
    "df = pd.read_csv('36potentialbots.csv')"
   ]
  },
  {
   "cell_type": "code",
   "execution_count": null,
   "metadata": {},
   "outputs": [],
   "source": []
  },
  {
   "cell_type": "code",
   "execution_count": 3,
   "metadata": {},
   "outputs": [],
   "source": [
    "# Need to import json to do this\n",
    "import json\n",
    "\n",
    "# Define a function to open the json\n",
    "def get_keys(path):\n",
    "    with open(path) as f:\n",
    "        return json.load(f)\n",
    "    \n",
    "# Using the function to open and load all keys in that file \n",
    "access_token_get = get_keys(\"/home/svideloc/Documents/Secrets/twitter_access_token.json\")\n",
    "access_secret_get = get_keys(\"/home/svideloc/Documents/Secrets/twitter_secret_access_token.json\")\n",
    "consumer_key_get = get_keys(\"/home/svideloc/Documents/Secrets/twitter_api_consumer_key.json\")\n",
    "consumer_secret_get = get_keys(\"/home/svideloc/Documents/Secrets/twitter_api_secret_consumer_key.json\")\n",
    "\n",
    "# Setting the first (and only) value as a variable\n",
    "ACCESS_TOKEN = list(access_token_get.values())[0]\n",
    "ACCESS_SECRET = list(access_secret_get.values())[0]\n",
    "CONSUMER_KEY = list(consumer_key_get.values())[0]\n",
    "CONSUMER_SECRET = list(consumer_secret_get.values())[0]"
   ]
  },
  {
   "cell_type": "code",
   "execution_count": 4,
   "metadata": {},
   "outputs": [],
   "source": [
    "rapidapi_key = \"27d5a1df99msh68fabab25b4181ep100fd6jsnfe7261695f19\" # now it's called rapidapi key\n",
    "twitter_app_auth = {\n",
    "    'consumer_key': CONSUMER_KEY,\n",
    "    'consumer_secret': CONSUMER_SECRET,\n",
    "    'access_token': ACCESS_TOKEN,\n",
    "    'access_token_secret': ACCESS_SECRET,\n",
    "  }\n",
    "bom = botometer.Botometer(wait_on_ratelimit=True,\n",
    "                          rapidapi_key=rapidapi_key,\n",
    "                          **twitter_app_auth)"
   ]
  },
  {
   "cell_type": "code",
   "execution_count": 12,
   "metadata": {},
   "outputs": [],
   "source": [
    "# Check a single account by screen name\n",
    "result = bom.check_account('@lesGuermantes')"
   ]
  },
  {
   "cell_type": "code",
   "execution_count": 13,
   "metadata": {},
   "outputs": [
    {
     "data": {
      "text/plain": [
       "0.26734400306340506"
      ]
     },
     "execution_count": 13,
     "metadata": {},
     "output_type": "execute_result"
    }
   ],
   "source": [
    "result['scores']['universal']"
   ]
  },
  {
   "cell_type": "code",
   "execution_count": 6,
   "metadata": {},
   "outputs": [],
   "source": [
    "accounts = df.user_id.to_list()\n",
    "accounts_test = accounts[:5]"
   ]
  },
  {
   "cell_type": "code",
   "execution_count": 7,
   "metadata": {},
   "outputs": [
    {
     "data": {
      "text/plain": [
       "[27701129, 45041783, 48552613, 62774102, 65486924]"
      ]
     },
     "execution_count": 7,
     "metadata": {},
     "output_type": "execute_result"
    }
   ],
   "source": [
    "accounts_test"
   ]
  },
  {
   "cell_type": "code",
   "execution_count": 8,
   "metadata": {},
   "outputs": [
    {
     "name": "stdout",
     "output_type": "stream",
     "text": [
      "imnativebyblood: 0.22180647190550215\n",
      "drhpolitics: 0.6884177623265628\n",
      "craigdh: 0.22180647190550215\n",
      "filterednews: 0.19374947883382485\n",
      "TheJeffBurton: 0.6506901031179089\n",
      "_StevenWMoore: 0.8701191997119831\n",
      "lesGuermantes: 0.10827700665723966\n",
      "jraykitty: 0.42151725890598224\n",
      "drnoahross: 0.7866262980972412\n",
      "realnewspro: 0.8882184952163719\n",
      "lionelressi: 0.6310548366819692\n",
      "BoringMe2Death: 0.5905129273413294\n",
      "WausauWisconsi: 0.10030935716061677\n",
      "YamenHoque: 0.32230602190830704\n",
      "tonatiureyes: 0.16847316644464133\n",
      "SPECIALG4Y: 0.04178983547133819\n",
      "SheerCannabis: 0.36065190656573104\n",
      "Passaro5738: 0.46359219069702307\n",
      "honahharris: 0.03546593341354506\n",
      "HashtagSpiruli: 0.32230602190830704\n",
      "dubaisend: 0.8964140695210783\n",
      "andrew_vargha: 0.06783456974919343\n",
      "machinelearnflx: 0.9178878139616656\n",
      "psyopbot: 0.25265321740844954\n",
      "AriesaSandino: 0.10030935716061677\n",
      "TRTWorldNow: 0.14589765727494236\n",
      "rogue_corq: 0.40086139116347386\n",
      "TManagerPolitic: 0.3039573320934062\n",
      "conspiracy_meme: 0.36065190656573104\n",
      "Access3Granted: 0.44245148142042123\n",
      "ForcesDriving: 0.44245148142042123\n",
      "Kenneth18719418: 0.16847316644464133\n",
      "stayupTODAYte: 0.7719542327261165\n",
      "Roehmer16: 0.380551857066998\n",
      "POTUSBot2020: 0.9448325758058531\n",
      "WBNReports: 0.8005982245473489\n"
     ]
    }
   ],
   "source": [
    "scores = []\n",
    "user= []\n",
    "for screen_name, result in bom.check_accounts_in(accounts):\n",
    "    score = result['scores']['english']\n",
    "    name = result['user']['screen_name']\n",
    "    scores.append(score)\n",
    "    user.append(name)\n",
    "    print(name + ': ' + str(score))"
   ]
  },
  {
   "cell_type": "code",
   "execution_count": 5,
   "metadata": {},
   "outputs": [],
   "source": [
    "df_NOT = pd.read_csv('NOTBOTS.csv')\n",
    "accounts = df_NOT.user_id.to_list()\n",
    "accounts_test = accounts[15:50]"
   ]
  },
  {
   "cell_type": "code",
   "execution_count": 6,
   "metadata": {},
   "outputs": [
    {
     "name": "stdout",
     "output_type": "stream",
     "text": [
      "AlexandraErin: 0.06783456974919343\n",
      "Wordie: 0.03546593341354506\n",
      "nytimes: 0.04178983547133819\n",
      "feoh: 0.05780718298413593\n",
      "chutry: 0.04918384795249982\n",
      "blogdiva: 0.07945465272791494\n",
      "gkkd: 0.04918384795249982\n",
      "iceblue: 0.05333128056896264\n",
      "amilh: 0.04918384795249982\n",
      "JoeBiden: 0.05780718298413593\n",
      "redbeard36: 0.04178983547133819\n",
      "mashable: 0.10030935716061677\n",
      "ericberlin: 0.0215615093045025\n",
      "curlew: 0.038503444945083086\n",
      "jamiequint: 0.030068974042493608\n",
      "aedison: 0.04178983547133819\n",
      "daveraleigh: 0.025471598156045747\n",
      "AndrewKorf: 0.04178983547133819\n",
      "hunterzzz: 0.06783456974919343\n",
      "MattMackowiak: 0.07945465272791494\n",
      "mullingitover: 0.04918384795249982\n",
      "freshyill: 0.038503444945083086\n",
      "tonytula: 0.030068974042493608\n",
      "washingtonpost: 0.05780718298413593\n",
      "jcgreenx: 0.027677698437753848\n",
      "FastCompany: 0.16847316644464133\n",
      "WBUR: 0.06783456974919343\n",
      "dcostalis: 0.04178983547133819\n",
      "latercera: 0.08592399976334196\n",
      "stumark: 0.038503444945083086\n",
      "Autumnshroud: 0.10030935716061677\n",
      "owillis: 0.030068974042493608\n",
      "Futterish: 0.045343501437382056\n",
      "czadd: 0.08592399976334196\n",
      "StuFFmc: 0.04178983547133819\n"
     ]
    }
   ],
   "source": [
    "scores_not = []\n",
    "user_not = []\n",
    "for screen_name, result in bom.check_accounts_in(accounts_test):\n",
    "    score = result['scores']['english']\n",
    "    name = result['user']['screen_name']\n",
    "    scores_not.append(score)\n",
    "    user_not.append(name)\n",
    "    print(name + ': ' + str(score))"
   ]
  }
 ],
 "metadata": {
  "kernelspec": {
   "display_name": "Python 3",
   "language": "python",
   "name": "python3"
  },
  "language_info": {
   "codemirror_mode": {
    "name": "ipython",
    "version": 3
   },
   "file_extension": ".py",
   "mimetype": "text/x-python",
   "name": "python",
   "nbconvert_exporter": "python",
   "pygments_lexer": "ipython3",
   "version": "3.7.6"
  }
 },
 "nbformat": 4,
 "nbformat_minor": 4
}
