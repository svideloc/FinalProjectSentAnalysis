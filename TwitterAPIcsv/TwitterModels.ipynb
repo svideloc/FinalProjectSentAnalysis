{
 "cells": [
  {
   "cell_type": "markdown",
   "metadata": {},
   "source": [
    "## This Notebook Contains The Models"
   ]
  },
  {
   "cell_type": "code",
   "execution_count": 1,
   "metadata": {},
   "outputs": [],
   "source": [
    "import pandas as pd\n",
    "import numpy as np\n",
    "\n",
    "from hyperopt import fmin, tpe, hp, STATUS_OK, Trials\n",
    "from sklearn.metrics import classification_report, confusion_matrix, accuracy_score, balanced_accuracy_score, roc_auc_score\n",
    "from sklearn.datasets import load_breast_cancer, load_iris, make_moons, make_circles, make_classification\n",
    "from sklearn.linear_model import LogisticRegression, LogisticRegressionCV\n",
    "from category_encoders import WOEEncoder\n",
    "from category_encoders import TargetEncoder, LeaveOneOutEncoder, JamesSteinEncoder, MEstimateEncoder\n",
    "from sklearn.preprocessing import OneHotEncoder, LabelEncoder, OrdinalEncoder\n",
    "\n",
    "from sklearn.model_selection import train_test_split, GridSearchCV\n",
    "from sklearn.pipeline import make_pipeline, Pipeline\n",
    "from sklearn.preprocessing import MinMaxScaler, KBinsDiscretizer, FunctionTransformer\n",
    "from sklearn.model_selection import cross_val_score\n",
    "from sklearn.naive_bayes import MultinomialNB\n",
    "from sklearn.naive_bayes import GaussianNB\n",
    "\n",
    "from matplotlib import pyplot as plt\n",
    "import seaborn as sns; sns.set()\n",
    "%matplotlib inline\n",
    "\n",
    "from sklearn.ensemble import GradientBoostingClassifier, RandomForestClassifier\n",
    "from mlxtend.classifier import StackingCVClassifier\n",
    "from sklearn.ensemble import ExtraTreesClassifier\n",
    "\n",
    "import xgboost\n",
    "from xgboost import XGBClassifier\n",
    "\n",
    "import lightgbm\n",
    "from lightgbm import LGBMClassifier\n",
    "\n",
    "import warnings\n",
    "warnings.filterwarnings(\"ignore\")\n",
    "\n",
    "from mlxtend.evaluate import confusion_matrix\n",
    "from mlxtend.plotting import plot_confusion_matrix\n",
    "\n",
    "import gc; gc.enable()\n",
    "\n",
    "from dataclean import clean_data"
   ]
  },
  {
   "cell_type": "code",
   "execution_count": 2,
   "metadata": {},
   "outputs": [],
   "source": [
    "df_tweets = pd.read_csv('debate9tweets.csv')\n",
    "df_users = pd.read_csv('debate9user20k.csv')\n",
    "df_train = pd.read_csv('train.csv')"
   ]
  },
  {
   "cell_type": "code",
   "execution_count": 3,
   "metadata": {},
   "outputs": [],
   "source": [
    "df_test = clean_data(df_users, df_tweets)"
   ]
  },
  {
   "cell_type": "code",
   "execution_count": 4,
   "metadata": {},
   "outputs": [
    {
     "data": {
      "text/plain": [
       "1    4448\n",
       "0    2891\n",
       "Name: target, dtype: int64"
      ]
     },
     "execution_count": 4,
     "metadata": {},
     "output_type": "execute_result"
    }
   ],
   "source": [
    "df_train.target.value_counts()"
   ]
  },
  {
   "cell_type": "code",
   "execution_count": 5,
   "metadata": {},
   "outputs": [],
   "source": [
    "# def stringify(X):\n",
    "#     data = pd.DataFrame(X)\n",
    "#     for c in data.columns.tolist():\n",
    "#         data[c] = data[c].astype(str)\n",
    "#     return data.values\n",
    "    \n",
    "# objectify = FunctionTransformer(func=stringify, check_inverse=False, validate=False)\n",
    "\n",
    "# binner = KBinsDiscretizer(n_bins=15, encode='ordinal', strategy='quantile')"
   ]
  },
  {
   "cell_type": "code",
   "execution_count": 5,
   "metadata": {},
   "outputs": [],
   "source": [
    "target = 'target'\n",
    "used_cols = [c for c in df_train.columns.tolist() if c not in ['Unnamed: 0.1', 'favorite_min', 'retweet_min', 'Unnamed: 0', target, 'user_id' , 'created_at', 'lang', 'updated', 'id', 'time_zone', 'location', 'profile_use_background_image', 'profile_background_tile', 'utc_offset', 'description', 'crawled_at']]\n",
    "# used_cols = [c for c in df.columns.tolist() if c not in ['favorite_max', 'favorite_min', 'retweet_min', 'statuses_count', 'followers_count', 'friends_count', 'favourites_count', 'listed_count', 'url', 'geo_enabled', 'default_profile', 'profile_banner_url', 'profile_sidebar_fill_color', 'profile_background_image_url_https','profile_text_color','profile_sidebar_border_color','profile_sidebar_fill_color ','profile_background_image_url','profile_background_color','profile_link_color', 'source_mode', 'Unnamed: 0', target, 'user_id' , 'created_at', 'lang', 'updated', 'id', 'time_zone', 'location', 'profile_use_background_image', 'profile_background_tile', 'utc_offset', 'description', 'crawled_at']]\n",
    "\n",
    "X, y = df_train[used_cols], df_train[target]\n",
    "\n",
    "#TRAIN TEST SPLIT\n",
    "X_train, X_test, y_train, y_test = train_test_split(X, y, \n",
    "                                                    test_size=0.3, \n",
    "                                                    random_state=42)"
   ]
  },
  {
   "cell_type": "code",
   "execution_count": 6,
   "metadata": {},
   "outputs": [],
   "source": [
    "from sklearn.feature_selection import VarianceThreshold\n",
    "from sklearn.pipeline import make_union\n",
    "from mlxtend.feature_selection import ColumnSelector\n",
    "\n",
    "from sklearn.impute import SimpleImputer"
   ]
  },
  {
   "cell_type": "code",
   "execution_count": 7,
   "metadata": {},
   "outputs": [],
   "source": [
    "cont_cols = [c for c in used_cols if c not in ['source_mode']]\n",
    "\n",
    "cat_select = ColumnSelector(['source_mode'])\n",
    "encoder = TargetEncoder()\n",
    "\n",
    "cont_select = ColumnSelector(cont_cols)\n",
    "\n",
    "cat_pipe = make_pipeline(cat_select, encoder)\n",
    "cont_pipe = make_pipeline(cont_select)"
   ]
  },
  {
   "cell_type": "code",
   "execution_count": 8,
   "metadata": {},
   "outputs": [
    {
     "name": "stdout",
     "output_type": "stream",
     "text": [
      "TRAIN accuracy: 0.9885146972941405\n",
      "TEST accuracy: 0.9845594913714805\n"
     ]
    },
    {
     "data": {
      "image/png": "[encoded data removed]",
      "text/plain": [
       "<Figure size 432x288 with 1 Axes>"
      ]
     },
     "metadata": {
      "needs_background": "light"
     },
     "output_type": "display_data"
    }
   ],
   "source": [
    "drop_const = VarianceThreshold()\n",
    "scaler = MinMaxScaler()\n",
    "imputer = SimpleImputer()\n",
    "\n",
    "lr = LogisticRegression(class_weight = 'balanced', solver = 'lbfgs', random_state=42)\n",
    "\n",
    "# pipe = make_pipeline(make_union(cat_pipe, ColumnSelector(cont_cols)), binner, drop_const, scaler, lr)\n",
    "pipe = make_pipeline(make_union(cat_pipe, ColumnSelector(cont_cols)), imputer, drop_const, scaler, lr)\n",
    "pipe.fit(X_train, y_train)\n",
    "\n",
    "# make predictions on training set\n",
    "y_guess = pipe.predict(X_train)\n",
    "\n",
    "# make predictions on hold-out set\n",
    "y_score = pipe.predict(X_test)\n",
    "\n",
    "#ranked_predictions = predictions.rank(pct=True, method=\"first\")\n",
    "print(\"TRAIN accuracy:\",accuracy_score(y_train, y_guess))\n",
    "print(\"TEST accuracy:\",accuracy_score(y_test, y_score))\n",
    "\n",
    "cm = confusion_matrix(y_test, y_score)\n",
    "plot_confusion_matrix(cm)\n",
    "plt.show()"
   ]
  },
  {
   "cell_type": "code",
   "execution_count": 10,
   "metadata": {},
   "outputs": [],
   "source": [
    "X_TRY = df_test[used_cols]"
   ]
  },
  {
   "cell_type": "code",
   "execution_count": 25,
   "metadata": {},
   "outputs": [],
   "source": [
    "x = (pipe.predict_proba(X_TRY)[:,1] > .2).astype(np.int).tolist()\n",
    "# pipe.predict(X_TRY)"
   ]
  },
  {
   "cell_type": "code",
   "execution_count": 26,
   "metadata": {},
   "outputs": [
    {
     "name": "stdout",
     "output_type": "stream",
     "text": [
      "bot: 22\n",
      "real: 17006\n"
     ]
    }
   ],
   "source": [
    "print('bot: '+ str(x.count(1)))\n",
    "print('real: '+ str(x.count(0)))"
   ]
  },
  {
   "cell_type": "code",
   "execution_count": 13,
   "metadata": {},
   "outputs": [],
   "source": [
    "df_test['bot'] = x"
   ]
  },
  {
   "cell_type": "code",
   "execution_count": 14,
   "metadata": {},
   "outputs": [],
   "source": [
    "df_to_Csv = df_test[df_test.bot  == 0].user_id.reset_index()"
   ]
  },
  {
   "cell_type": "code",
   "execution_count": 17,
   "metadata": {},
   "outputs": [
    {
     "data": {
      "text/html": [
       "<div>\n",
       "<style scoped>\n",
       "    .dataframe tbody tr th:only-of-type {\n",
       "        vertical-align: middle;\n",
       "    }\n",
       "\n",
       "    .dataframe tbody tr th {\n",
       "        vertical-align: top;\n",
       "    }\n",
       "\n",
       "    .dataframe thead th {\n",
       "        text-align: right;\n",
       "    }\n",
       "</style>\n",
       "<table border=\"1\" class=\"dataframe\">\n",
       "  <thead>\n",
       "    <tr style=\"text-align: right;\">\n",
       "      <th></th>\n",
       "      <th>index</th>\n",
       "      <th>user_id</th>\n",
       "    </tr>\n",
       "  </thead>\n",
       "  <tbody>\n",
       "    <tr>\n",
       "      <th>0</th>\n",
       "      <td>0</td>\n",
       "      <td>765</td>\n",
       "    </tr>\n",
       "    <tr>\n",
       "      <th>1</th>\n",
       "      <td>1</td>\n",
       "      <td>3839</td>\n",
       "    </tr>\n",
       "    <tr>\n",
       "      <th>2</th>\n",
       "      <td>2</td>\n",
       "      <td>7578</td>\n",
       "    </tr>\n",
       "    <tr>\n",
       "      <th>3</th>\n",
       "      <td>3</td>\n",
       "      <td>10707</td>\n",
       "    </tr>\n",
       "    <tr>\n",
       "      <th>4</th>\n",
       "      <td>4</td>\n",
       "      <td>12916</td>\n",
       "    </tr>\n",
       "  </tbody>\n",
       "</table>\n",
       "</div>"
      ],
      "text/plain": [
       "   index user_id\n",
       "0      0     765\n",
       "1      1    3839\n",
       "2      2    7578\n",
       "3      3   10707\n",
       "4      4   12916"
      ]
     },
     "execution_count": 17,
     "metadata": {},
     "output_type": "execute_result"
    }
   ],
   "source": [
    "df_to_Csv.head()"
   ]
  },
  {
   "cell_type": "code",
   "execution_count": 18,
   "metadata": {},
   "outputs": [],
   "source": [
    "df_to_Csv.to_csv('NOTBOTS.csv', index = False)"
   ]
  },
  {
   "cell_type": "code",
   "execution_count": 10,
   "metadata": {},
   "outputs": [
    {
     "name": "stdout",
     "output_type": "stream",
     "text": [
      "TRAIN accuracy: 1.0\n",
      "TEST accuracy: 0.991371480472298\n"
     ]
    },
    {
     "data": {
      "image/png": "[encoded data removed]",
      "text/plain": [
       "<Figure size 432x288 with 1 Axes>"
      ]
     },
     "metadata": {
      "needs_background": "light"
     },
     "output_type": "display_data"
    }
   ],
   "source": [
    "lgm = LGBMClassifier()\n",
    "#fit\n",
    "pipe2 = make_pipeline(make_union(cat_pipe, ColumnSelector(cont_cols)), imputer, drop_const, scaler, lgm)\n",
    "pipe2.fit(X_train, y_train)\n",
    "\n",
    "# make predictions on training set\n",
    "y_guess = pipe2.predict(X_train)\n",
    "\n",
    "# make predictions on hold-out set\n",
    "y_score = pipe2.predict(X_test)\n",
    "\n",
    "#print accuacy\n",
    "print(\"TRAIN accuracy:\",accuracy_score(y_train, y_guess))\n",
    "print(\"TEST accuracy:\",accuracy_score(y_test, y_score))\n",
    "\n",
    "#confusion matrix\n",
    "cm = confusion_matrix(y_test, y_score)\n",
    "plot_confusion_matrix(cm)\n",
    "plt.show()"
   ]
  },
  {
   "cell_type": "code",
   "execution_count": 11,
   "metadata": {},
   "outputs": [],
   "source": [
    "X_TRY = df_test[used_cols]"
   ]
  },
  {
   "cell_type": "code",
   "execution_count": 14,
   "metadata": {},
   "outputs": [],
   "source": [
    "x = (pipe2.predict_proba(X_TRY)[:,1] > .15).astype(np.int).tolist()"
   ]
  },
  {
   "cell_type": "code",
   "execution_count": 15,
   "metadata": {},
   "outputs": [
    {
     "name": "stdout",
     "output_type": "stream",
     "text": [
      "bot: 13\n",
      "real: 17015\n"
     ]
    }
   ],
   "source": [
    "print('bot: '+ str(x.count(1)))\n",
    "print('real: '+ str(x.count(0)))"
   ]
  },
  {
   "cell_type": "code",
   "execution_count": null,
   "metadata": {},
   "outputs": [],
   "source": []
  },
  {
   "cell_type": "code",
   "execution_count": 22,
   "metadata": {},
   "outputs": [
    {
     "name": "stdout",
     "output_type": "stream",
     "text": [
      "TRAIN accuracy: 1.0\n",
      "TEST accuracy: 0.991371480472298\n"
     ]
    },
    {
     "data": {
      "image/png": "[encoded data removed]",
      "text/plain": [
       "<Figure size 432x288 with 1 Axes>"
      ]
     },
     "metadata": {
      "needs_background": "light"
     },
     "output_type": "display_data"
    }
   ],
   "source": [
    "rf = RandomForestClassifier()\n",
    "\n",
    "pipe3 = make_pipeline(objectify, encoder, binner, scaler, rf)\n",
    "pipe3.fit(X_train, y_train)\n",
    "\n",
    "# make predictions on training set\n",
    "y_guess = pipe3.predict(X_train)\n",
    "\n",
    "# make predictions on hold-out set\n",
    "y_score = pipe3.predict(X_test)\n",
    "\n",
    "print(\"TRAIN accuracy:\",accuracy_score(y_train, y_guess))\n",
    "print(\"TEST accuracy:\",accuracy_score(y_test, y_score))\n",
    "\n",
    "cm = confusion_matrix(y_test, y_score)\n",
    "plot_confusion_matrix(cm)\n",
    "plt.show()"
   ]
  },
  {
   "cell_type": "code",
   "execution_count": 23,
   "metadata": {},
   "outputs": [
    {
     "name": "stdout",
     "output_type": "stream",
     "text": [
      "Feature ranking:\n",
      "1. feature 13 (0.231197)\n",
      "2. feature 10 (0.147114)\n",
      "3. feature 8 (0.122129)\n",
      "4. feature 9 (0.099032)\n",
      "5. feature 11 (0.074632)\n",
      "6. feature 7 (0.069568)\n",
      "7. feature 0 (0.067517)\n",
      "8. feature 12 (0.058880)\n",
      "9. feature 14 (0.034699)\n",
      "10. feature 4 (0.029686)\n",
      "11. feature 2 (0.022479)\n",
      "12. feature 5 (0.019304)\n",
      "13. feature 3 (0.013915)\n",
      "14. feature 1 (0.005860)\n",
      "15. feature 6 (0.003986)\n",
      "16. feature 17 (0.000000)\n",
      "17. feature 23 (0.000000)\n",
      "18. feature 22 (0.000000)\n",
      "19. feature 16 (0.000000)\n",
      "20. feature 21 (0.000000)\n",
      "21. feature 20 (0.000000)\n",
      "22. feature 19 (0.000000)\n",
      "23. feature 24 (0.000000)\n",
      "24. feature 18 (0.000000)\n",
      "25. feature 15 (0.000000)\n",
      "26. feature 25 (0.000000)\n"
     ]
    },
    {
     "data": {
      "image/png": "[encoded data removed]",
      "text/plain": [
       "<Figure size 432x288 with 1 Axes>"
      ]
     },
     "metadata": {
      "needs_background": "light"
     },
     "output_type": "display_data"
    }
   ],
   "source": [
    "importances = rf.feature_importances_\n",
    "std = np.std([tree.feature_importances_ for tree in rf.estimators_],\n",
    "             axis=0)\n",
    "indices = np.argsort(importances)[::-1]\n",
    "\n",
    "# Print the feature ranking\n",
    "print(\"Feature ranking:\")\n",
    "\n",
    "for f in range(X.shape[1]):\n",
    "    print(\"%d. feature %d (%f)\" % (f + 1, indices[f], importances[indices[f]]))\n",
    "\n",
    "# Plot the feature importances of the forest\n",
    "plt.figure()\n",
    "plt.title(\"Feature importances\")\n",
    "plt.bar(range(X.shape[1]), importances[indices],\n",
    "       color=\"r\", yerr=std[indices], align=\"center\")\n",
    "plt.xticks(range(X.shape[1]), indices)\n",
    "plt.xlim([-1, X.shape[1]])\n",
    "plt.show()"
   ]
  },
  {
   "cell_type": "code",
   "execution_count": null,
   "metadata": {},
   "outputs": [],
   "source": []
  },
  {
   "cell_type": "code",
   "execution_count": null,
   "metadata": {},
   "outputs": [],
   "source": []
  }
 ],
 "metadata": {
  "kernelspec": {
   "display_name": "Python 3",
   "language": "python",
   "name": "python3"
  },
  "language_info": {
   "codemirror_mode": {
    "name": "ipython",
    "version": 3
   },
   "file_extension": ".py",
   "mimetype": "text/x-python",
   "name": "python",
   "nbconvert_exporter": "python",
   "pygments_lexer": "ipython3",
   "version": "3.7.6"
  }
 },
 "nbformat": 4,
 "nbformat_minor": 4
}
